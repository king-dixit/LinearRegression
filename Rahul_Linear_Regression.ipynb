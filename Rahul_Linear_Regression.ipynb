{
 "cells": [
  {
   "cell_type": "code",
   "execution_count": 46,
   "metadata": {},
   "outputs": [],
   "source": [
    "import numpy as np\n",
    "import pandas as pd\n",
    "from sklearn.model_selection import train_test_split\n",
    "from tqdm import tqdm\n",
    "import matplotlib.pyplot as plt\n",
    "import random\n",
    "import math"
   ]
  },
  {
   "cell_type": "code",
   "execution_count": 47,
   "metadata": {},
   "outputs": [],
   "source": [
    "df1 = pd.read_csv('housing.csv')"
   ]
  },
  {
   "cell_type": "code",
   "execution_count": 48,
   "metadata": {},
   "outputs": [],
   "source": [
    "df2 = pd.read_csv('yachtData.csv')"
   ]
  },
  {
   "cell_type": "code",
   "execution_count": 49,
   "metadata": {},
   "outputs": [],
   "source": [
    "df3 = pd.read_csv('concreteData.csv')"
   ]
  },
  {
   "cell_type": "code",
   "execution_count": 509,
   "metadata": {},
   "outputs": [],
   "source": [
    "class LinearRegression:\n",
    "    \n",
    "    def __init__(self,X,y,lr, tol, maxIt, Lambda,error, gd =False, sgd = False, reg = False,) -> None:\n",
    "        \n",
    "        self.X=X\n",
    "        self.y=y\n",
    "        self.lr=lr\n",
    "        self.tol=tol\n",
    "        self.gd = gd\n",
    "        self.Lambda = Lambda\n",
    "        self.maxIt=maxIt\n",
    "        self.sgd =sgd\n",
    "        self.reg=reg\n",
    "        self.error = error\n",
    "        \n",
    "        \n",
    "    def trainTestSplit(self):\n",
    "        X_train, X_test, y_train, y_test = train_test_split(self.X, self.y , test_size = 0.3, random_state = 0)\n",
    "        return X_train, X_test, y_train, y_test\n",
    "    \n",
    "# Putting an intercept line parallel to the axis. we generate a vector of ones  - bias, nump matrix\n",
    "    def bias(self, X):\n",
    "        return np.column_stack([np.ones([X.shape[0],1]),X])  # appending to X\n",
    "    \n",
    "    \n",
    "#first normalize and then add column of 1\n",
    "    def normalize(self,X):\n",
    "        mean = np.mean(X,0)\n",
    "        sd = np.std(X,0)\n",
    "        X_norm = (X-mean)/sd\n",
    "        X_norm = self.bias(X_norm)\n",
    "        return X_norm, mean,sd\n",
    "    \n",
    "    def normalizeTestData(self,X,trainMean,trainSd):\n",
    "        X_norm = (X-trainMean)/trainSd\n",
    "        X_norm = self.bias(X_norm)\n",
    "        return X_norm\n",
    "    \n",
    "# number of non zero singular values    \n",
    "    def rank(self,X, eps = 1e-12):\n",
    "        u, s ,vh = np.linalg.svd(X)\n",
    "        return len([x for x in s if abs(X) > eps])\n",
    "    \n",
    "    def checkMatrix(self,X):\n",
    "        \n",
    "        X_rank = np.linalg.matrix_rank(X)\n",
    "        if X_rank == min(X.shape[0], X.shape[1]): # no of rows & columns\n",
    "            self.fullRank = True\n",
    "            print('Data is Full Rank')\n",
    "        else:\n",
    "            self.fullRank = False\n",
    "            print(\"Data is not Full Rank\")\n",
    "            \n",
    "            \n",
    "    def checkInvertibility(self,X):\n",
    "        \n",
    "        if X.shape[0] < X.shape[1]:\n",
    "            self.lowRank = True\n",
    "            print('Data is low rank')\n",
    "        else:\n",
    "            self.lowRank = False\n",
    "            print(\"Data is not low rank\")\n",
    "            \n",
    "    def closedFormSolution(self,X,y):\n",
    "        w = np.linalg.inv(X.T.dot(X)).dot(X.T).dot(y)\n",
    "        return w\n",
    "    \n",
    "    def closedformsol_regularization(self,X,y):\n",
    "        \n",
    "        X_dim = self.bias(X)\n",
    "        dimension = X_dim.shape[1]\n",
    "        # Identity matrix of dimension should be same as the input matrix\n",
    "        A = np.identity(dimension-1)\n",
    "        w = np.linalg.inv((X.T).dot(X)+self.Lambda*A).dot(X.T).dot(y)\n",
    "        return w\n",
    "    \n",
    "    \n",
    "    \n",
    "#theta-t = theta-t-1 -  alpha*gradient\n",
    "    def gradientDescent(self, X, y):\n",
    "        \n",
    "        \n",
    "        errorSequences =  []\n",
    "        self.costValues = []\n",
    "        last = float('inf')\n",
    "        for i in tqdm(range(self.maxIt)):\n",
    "            \n",
    "    \n",
    "            self.w = self.w - self.lr*self.costDerivative(X,y)\n",
    "            cost = self.costFunction(X, y)\n",
    "            self.costValues.append(cost)\n",
    "            if self.error == 'rmse':\n",
    "                curr = self.rmse(X, y)\n",
    "            else:\n",
    "                curr = self.sse(X,y)          \n",
    "    \n",
    "                \n",
    "            diff = last-curr\n",
    "            last = curr  \n",
    "            errorSequences.append(curr)\n",
    "            plt.plot(errorSequences)\n",
    "            \n",
    "            if diff < self.tol:\n",
    "                \n",
    "                print('Model stopped - no further improvement')\n",
    "                break\n",
    "        plt.xlabel(\"Iterations\")\n",
    "        plt.ylabel(\"Error\")\n",
    "        plt.title(\"Iterations vs Error\")\n",
    "        plt.plot(errorSequences)\n",
    "                \n",
    "    def graddescent_regularization(self,X,y):\n",
    "        errorSequences = []\n",
    "        self.costValues = []\n",
    "        last = float('inf')\n",
    "        for i in tqdm(range(self.maxIt)):\n",
    "            self.w = self.w - self.lr*self.costDerivative_regularization(X,y)\n",
    "            cost = self.costFunction(X,y)\n",
    "            self.costValues.append(cost)\n",
    "    \n",
    "            if self.error == 'rmse':\n",
    "                curr = self.rmse(X, y)\n",
    "            else:\n",
    "                curr = self.sse(X,y)\n",
    "                \n",
    "            diff = last-curr\n",
    "            last = curr      \n",
    "            errorSequences.append(curr)\n",
    "            #plt.plot(errorSequences)\n",
    "            \n",
    "            if diff < self.tol:\n",
    "                print('Model stopped - no further improvement')\n",
    "                break\n",
    "                \n",
    "        plt.xlabel(\"Iterations\")\n",
    "        plt.ylabel(\"Error\")\n",
    "        plt.title(\"Iterations vs Error\")\n",
    "        plt.plot(errorSequences)\n",
    "        \n",
    "    def stochastic_graddescent(self,X,y,k):\n",
    "        \n",
    "        #b = random.sample(list(self.X), k)\n",
    "        #X = np.array(b)    \n",
    "        errorSequences = []\n",
    "        self.costValues = []\n",
    "        last = float('inf')\n",
    "      \n",
    "        for i in tqdm(range(self.maxIt)):\n",
    "            b = random.sample(list(X), k)\n",
    "            c = random.sample(list(y),k)\n",
    "            y = np.array(c)\n",
    "            X = np.array(b)\n",
    "            for q,r in zip(X, y):\n",
    "                \n",
    "                self.w = self.w - self.lr*self.costDerivative(X,y)\n",
    "                cost = self.costFunction(X, y)\n",
    "                self.costValues.append(cost)\n",
    "            \n",
    "                if self.error == 'rmse':\n",
    "                    curr = self.rmse(X, y)\n",
    "                else:\n",
    "                    curr = self.sse(X,y)\n",
    "                \n",
    "                diff = last-curr\n",
    "                last = curr      \n",
    "                errorSequences.append(curr)\n",
    "                plt.plot(errorSequences)\n",
    "            \n",
    "                if diff < self.tol:\n",
    "                    #print('Model stopped - no further improvement')\n",
    "                    break\n",
    "                \n",
    "        plt.xlabel(\"Iterations\")\n",
    "        plt.ylabel(\"Error\")\n",
    "        plt.title(\"Iterations vs Error\")\n",
    "        plt.plot(errorSequences)\n",
    "\n",
    "\n",
    "    def stochastic_graddescent_regularization(self,X,y,k):\n",
    "        \n",
    "        #b = random.sample(list(self.X), k)\n",
    "        #X = np.array(b)    \n",
    "        errorSequences = []\n",
    "        self.costValues = []\n",
    "        last = float('inf')\n",
    "      \n",
    "        for i in tqdm(range(self.maxIt)):\n",
    "            b = random.sample(list(X), k)\n",
    "            c = random.sample(list(y),k)\n",
    "            y = np.array(c)\n",
    "            X = np.array(b)\n",
    "            for q,r in zip(X, y):\n",
    "                \n",
    "                self.w = self.w - self.lr*self.costDerivative_stochastic(X,y)\n",
    "                cost = self.costFunction(X, y)\n",
    "                self.costValues.append(cost)\n",
    "\n",
    "                if self.error == 'rmse':\n",
    "                    curr = self.rmse(X, y)\n",
    "                else:\n",
    "                    curr = self.sse(X,y)\n",
    "                \n",
    "                diff = last-curr\n",
    "                last = curr      \n",
    "                errorSequences.append(curr)\n",
    "                #plt.plot(errorSequences)\n",
    "            \n",
    "                if diff < self.tol:\n",
    "                    #print('Model stopped - no further improvement')\n",
    "                    break\n",
    "            plt.plot(errorSequences)\n",
    "\n",
    "        \n",
    "#ThetaT*xi     \n",
    "\n",
    "    def predict(self,X):\n",
    "        return X.dot(self.w)\n",
    "        \n",
    "    def sse(self,X,y):\n",
    "        \n",
    "        y_hat = self.predict(X)\n",
    "        return ((y_hat-y)**2).sum()\n",
    "    \n",
    "    def rmse(self, X, y):\n",
    "        return math.sqrt(self.sse(X,y)/y.size)\n",
    "            \n",
    "        \n",
    "    def costFunction(self,X,y):\n",
    "        return self.sse(X,y)/2\n",
    "    \n",
    "#xT(xtheta -y)    \n",
    "    def costDerivative(self,X,y):\n",
    "        y_hat = self.predict(X)\n",
    "        return (y_hat - y).dot(X)\n",
    "    \n",
    "    def costDerivative_stochastic(self,X,y):\n",
    "        yhat = self.predict(X)\n",
    "        z = self.Lambda*(self.w)\n",
    "        return (yhat - y).dot(X) + self.Lambda*(self.w**2)\n",
    "    \n",
    "    def costDerivative_regularization(self,X,y):\n",
    "        yhat = self.predict(X)\n",
    "        z = self.Lambda*(self.w)\n",
    "        return (yhat - y).dot(X) + self.Lambda*(self.w**2)\n",
    "        \n",
    "    def fit(self):\n",
    "        \n",
    "        self.X_train, self.X_test, self.y_train, self.y_test = self.trainTestSplit()\n",
    "        self.X_train, self.mean, self.sd = self.normalize(self.X_train)\n",
    "        self.X_test = self.normalizeTestData(self.X_test, self.mean, self.sd)\n",
    "\n",
    "        self.checkMatrix(self.X_train)\n",
    "        self.checkInvertibility(self.X_train)\n",
    "        \n",
    "        \n",
    "        if self.fullRank and not self.lowRank and not self.gd and not self.reg and not self.sgd:\n",
    "        \n",
    "            print('Solving using closed form sol')\n",
    "            self.w = self.closedFormSolution(self.X_train, self.y_train)\n",
    "            \n",
    "        elif self.fullRank and not self.lowRank and not self.gd and self.reg and not self.sgd:\n",
    "            print('Solving using closed form regularization')\n",
    "            self.w = self.closedformsol_regularization(self.X_train, self.y_train)\n",
    "            \n",
    "        elif self.fullRank and not self.lowRank and not self.sgd and self.gd and self.reg:\n",
    "            print('Solving using Gradient Descent with Regularization')\n",
    "            self.w = np.ones(self.X_train.shape[1] ,dtype = np.float64) * 0\n",
    "            self.graddescent_regularization(self.X_train,self.y_train)\n",
    "            #self.plotCost()\n",
    "            #plt.plot(errorSequences)\n",
    "\n",
    "        elif self.fullRank and not self.lowRank and self.sgd and self.reg and not self.gd:\n",
    "            print('Solving using Stochastic Gradient Descent with Regularization')\n",
    "            #self.x_train = np.squeeze(np.asarray(self.X_train))\n",
    "            #self.w=np.zeros(shape=(self.x_train.shape[1]-1,1))\n",
    "            self.w = np.ones(self.X_train.shape[1] ,dtype = np.float64) * 0\n",
    "            self.stochastic_graddescent_regularization(self.X_train,self.y_train, k=10)\n",
    "            \n",
    "        elif self.fullRank and not self.lowRank and self.sgd and not self.reg and not self.gd:\n",
    "            print('Solving using Stochastic Gradient Descent')\n",
    "            self.w = np.ones(self.X_train.shape[1] ,dtype = np.float64) * 0\n",
    "            self.stochastic_graddescent(self.X_train,self.y_train, k=10)\n",
    "            #self.plotCost()\n",
    "            \n",
    "        else:\n",
    "            \n",
    "            print(\"Solving using gradient descent\")\n",
    "            self.w = np.ones(self.X_train.shape[1] ,dtype = np.float64) * 0\n",
    "            self.gradientDescent(self.X_train,self.y_train)\n",
    "            \n",
    "            #print(self.w)\n",
    "        \n",
    "       # print(self.w)\n",
    "        \n",
    "        \n",
    "        \n",
    "        sse = self.sse(self.X_test, self.y_test)\n",
    "        rmse = self.rmse(self.X_test, self.y_test)\n",
    "        print(\"\\nSSE:\",  sse)\n",
    "        print(\"RMSE:\", rmse )\n",
    "        \n",
    "        print(\"\\n Final Theta's\\n\")\n",
    "        print(self.w)\n",
    "        \n",
    "\n",
    "        \n"
   ]
  },
  {
   "cell_type": "markdown",
   "metadata": {},
   "source": [
    "HOUSING CSV"
   ]
  },
  {
   "cell_type": "code",
   "execution_count": 515,
   "metadata": {},
   "outputs": [
    {
     "name": "stdout",
     "output_type": "stream",
     "text": [
      "Data is Full Rank\n",
      "Data is not low rank\n",
      "Solving using closed form sol\n",
      "\n",
      "SSE: 3250.004410789339\n",
      "RMSE: 4.624025082730341\n",
      "\n",
      " Final Theta's\n",
      "\n",
      "[22.93399433 -0.90751811  1.04796575  0.38867104  0.6622465  -2.17214484\n",
      "  2.58716716  0.50645061 -2.59559964  2.30818886 -1.67320027 -2.33651383\n",
      "  0.65618617 -3.99472177]\n"
     ]
    }
   ],
   "source": [
    "regression = LinearRegression(df1.values[:,0:-1], df1.values[:,-1],Lambda = 0.001 ,lr = 0.0004, tol = 0.005, maxIt = 1500, gd=False ,reg=False,error='rmse')\n",
    "regression.fit()\n"
   ]
  },
  {
   "cell_type": "code",
   "execution_count": 516,
   "metadata": {},
   "outputs": [
    {
     "name": "stdout",
     "output_type": "stream",
     "text": [
      "Data is Full Rank\n",
      "Data is not low rank\n",
      "Solving using closed form regularization\n",
      "\n",
      "SSE: 3250.003244845508\n",
      "RMSE: 4.624024253292389\n",
      "\n",
      " Final Theta's\n",
      "\n",
      "[22.93392937 -0.9075087   1.04794718  0.38863798  0.66225127 -2.1721009\n",
      "  2.58718049  0.50642973 -2.59557244  2.308099   -1.67312074 -2.33650137\n",
      "  0.65618524 -3.99469858]\n"
     ]
    }
   ],
   "source": [
    "regressiona = LinearRegression(df1.values[:,0:-1], df1.values[:,-1],Lambda = 0.001 ,lr = 0.0004, tol = 0.005, maxIt = 1500, gd=False ,reg=True,error='rmse')\n",
    "regressiona.fit()"
   ]
  },
  {
   "cell_type": "code",
   "execution_count": 521,
   "metadata": {},
   "outputs": [
    {
     "name": "stderr",
     "output_type": "stream",
     "text": [
      "  2%|█▌                                                                             | 30/1500 [00:00<00:02, 728.49it/s]"
     ]
    },
    {
     "name": "stdout",
     "output_type": "stream",
     "text": [
      "Data is Full Rank\n",
      "Data is not low rank\n",
      "Solving using gradient descent\n",
      "Model stopped - no further improvement\n",
      "\n",
      "SSE: 3395.2834933710237\n",
      "RMSE: 4.7262449580778965\n",
      "\n",
      " Final Theta's\n",
      "\n",
      "[22.72928728 -0.71502389  0.61050987 -0.1830346   0.76362304 -0.9822018\n",
      "  3.11998658  0.04996472 -1.84225699  0.70895661 -0.3872768  -2.1058927\n",
      "  0.66462073 -3.52549145]\n"
     ]
    },
    {
     "name": "stderr",
     "output_type": "stream",
     "text": [
      "\n"
     ]
    },
    {
     "data": {
      "image/png": "[encoded data removed]",
      "text/plain": [
       "<Figure size 432x288 with 1 Axes>"
      ]
     },
     "metadata": {
      "needs_background": "light"
     },
     "output_type": "display_data"
    }
   ],
   "source": [
    "regressionb = LinearRegression(df1.values[:,0:-1], df1.values[:,-1],Lambda = 0.001 ,lr = 0.0004, tol = 0.005, maxIt = 1500, gd=True ,reg=False,error='rmse')\n",
    "regressionb.fit()"
   ]
  },
  {
   "cell_type": "code",
   "execution_count": 530,
   "metadata": {},
   "outputs": [
    {
     "name": "stderr",
     "output_type": "stream",
     "text": [
      "  2%|█▌                                                                           | 30/1500 [00:00<00:00, 10794.30it/s]"
     ]
    },
    {
     "name": "stdout",
     "output_type": "stream",
     "text": [
      "Data is Full Rank\n",
      "Data is not low rank\n",
      "Solving using Gradient Descent with Regularization\n",
      "Model stopped - no further improvement\n",
      "\n",
      "SSE: 3395.2870967253866\n",
      "RMSE: 4.726247466017352\n",
      "\n",
      " Final Theta's\n",
      "\n",
      "[22.72915163 -0.71502355  0.61051003 -0.18303455  0.76362281 -0.9822023\n",
      "  3.11998049  0.04996587 -1.8422586   0.70895737 -0.38727625 -2.1058946\n",
      "  0.66462015 -3.5254986 ]\n"
     ]
    },
    {
     "name": "stderr",
     "output_type": "stream",
     "text": [
      "\n"
     ]
    },
    {
     "data": {
      "image/png": "[encoded data removed]",
      "text/plain": [
       "<Figure size 432x288 with 1 Axes>"
      ]
     },
     "metadata": {
      "needs_background": "light"
     },
     "output_type": "display_data"
    }
   ],
   "source": [
    "regressionc = LinearRegression(df1.values[:,0:-1], df1.values[:,-1],Lambda = 0.0001 ,lr = 0.0004, tol = 0.005, maxIt = 1500, gd=True ,reg=True,error='rmse')\n",
    "regressionc.fit()"
   ]
  },
  {
   "cell_type": "code",
   "execution_count": 513,
   "metadata": {},
   "outputs": [
    {
     "name": "stderr",
     "output_type": "stream",
     "text": [
      "  2%|█▋                                                                             | 33/1500 [00:00<00:04, 320.69it/s]"
     ]
    },
    {
     "name": "stdout",
     "output_type": "stream",
     "text": [
      "Data is Full Rank\n",
      "Data is not low rank\n",
      "Solving using Stochastic Gradient Descent\n"
     ]
    },
    {
     "name": "stderr",
     "output_type": "stream",
     "text": [
      "100%|█████████████████████████████████████████████████████████████████████████████| 1500/1500 [00:07<00:00, 207.80it/s]\n"
     ]
    },
    {
     "name": "stdout",
     "output_type": "stream",
     "text": [
      "\n",
      "SSE: 16787.03658699024\n",
      "RMSE: 10.509092738080076\n",
      "\n",
      " Final Theta's\n",
      "\n",
      "[20.51212081  0.85779343 -0.5614165  -1.2775032   0.699992   -0.5627499\n",
      "  0.3184421  -0.59159032  0.63578302  0.84208289 -2.31154861 -0.74337023\n",
      "  7.75668179  1.81846296]\n"
     ]
    },
    {
     "data": {
      "image/png": "[encoded data removed]",
      "text/plain": [
       "<Figure size 432x288 with 1 Axes>"
      ]
     },
     "metadata": {
      "needs_background": "light"
     },
     "output_type": "display_data"
    }
   ],
   "source": [
    "regressionc = LinearRegression(df1.values[:,0:-1], df1.values[:,-1],Lambda = 0.0001 ,lr = 0.0004, tol = 0.005, maxIt = 1500, sgd=True ,reg=False,error='rmse')\n",
    "regressionc.fit()"
   ]
  },
  {
   "cell_type": "code",
   "execution_count": 514,
   "metadata": {},
   "outputs": [
    {
     "name": "stderr",
     "output_type": "stream",
     "text": [
      "  9%|███████▏                                                                     | 140/1500 [00:00<00:00, 1393.78it/s]"
     ]
    },
    {
     "name": "stdout",
     "output_type": "stream",
     "text": [
      "Data is Full Rank\n",
      "Data is not low rank\n",
      "Solving using Stochastic Gradient Descent with Regularization\n"
     ]
    },
    {
     "name": "stderr",
     "output_type": "stream",
     "text": [
      "100%|█████████████████████████████████████████████████████████████████████████████| 1500/1500 [00:01<00:00, 972.25it/s]\n"
     ]
    },
    {
     "name": "stdout",
     "output_type": "stream",
     "text": [
      "\n",
      "SSE: 15123.37517172563\n",
      "RMSE: 9.974762618111201\n",
      "\n",
      " Final Theta's\n",
      "\n",
      "[17.25419751 -0.58381255 -2.76439365  1.15581321  2.05622972 -0.63334471\n",
      " -0.53028689 -0.69055773  0.59183805 -0.2064404  -3.79515727 -1.67090374\n",
      " -4.41042097 -3.07093952]\n"
     ]
    },
    {
     "data": {
      "image/png": "[encoded data removed]",
      "text/plain": [
       "<Figure size 432x288 with 1 Axes>"
      ]
     },
     "metadata": {
      "needs_background": "light"
     },
     "output_type": "display_data"
    }
   ],
   "source": [
    "regressiond = LinearRegression(df1.values[:,0:-1], df1.values[:,-1],Lambda = 0.0001 ,lr = 0.0004, tol = 0.005, maxIt = 1500, sgd=True ,reg=True,error='rmse')\n",
    "regressiond.fit()"
   ]
  },
  {
   "cell_type": "code",
   "execution_count": 494,
   "metadata": {},
   "outputs": [
    {
     "data": {
      "text/plain": [
       "9.375686348395242"
      ]
     },
     "execution_count": 494,
     "metadata": {},
     "output_type": "execute_result"
    }
   ],
   "source": [
    "regression.rmse(regression.X_test, regression.y_test)\n",
    "#regression.sse(regression.X_test, regression.y_test)"
   ]
  },
  {
   "cell_type": "markdown",
   "metadata": {},
   "source": [
    "YACHT CSV"
   ]
  },
  {
   "cell_type": "code",
   "execution_count": 519,
   "metadata": {},
   "outputs": [
    {
     "name": "stdout",
     "output_type": "stream",
     "text": [
      "Data is Full Rank\n",
      "Data is not low rank\n",
      "Solving using closed form sol\n",
      "\n",
      "SSE: 7619.253689071977\n",
      "RMSE: 9.0513788464675\n",
      "\n",
      " Final Theta's\n",
      "\n",
      "[10.74271028  0.54271589 -0.48644592  0.53145418 -0.58852203 -0.84401335\n",
      " 12.89451446]\n"
     ]
    }
   ],
   "source": [
    "regression2 = LinearRegression(df2.values[:,0:-1], df2.values[:,-1],Lambda = 0.001 ,lr = 0.001, tol = 0.001, maxIt =1500, gd=False,reg=False,error='rmse')\n",
    "regression2.fit()"
   ]
  },
  {
   "cell_type": "code",
   "execution_count": 520,
   "metadata": {},
   "outputs": [
    {
     "name": "stdout",
     "output_type": "stream",
     "text": [
      "Data is Full Rank\n",
      "Data is not low rank\n",
      "Solving using closed form regularization\n",
      "\n",
      "SSE: 7619.222182092549\n",
      "RMSE: 9.051360131911352\n",
      "\n",
      " Final Theta's\n",
      "\n",
      "[10.74266008  0.54271106 -0.48655894  0.53098641 -0.58814081 -0.84356367\n",
      " 12.89445137]\n"
     ]
    }
   ],
   "source": [
    "regression2a = LinearRegression(df2.values[:,0:-1], df2.values[:,-1],Lambda = 0.001 ,lr = 0.001, tol = 0.001, maxIt =1500, gd=False,reg=True,error='rmse')\n",
    "regression2a.fit()"
   ]
  },
  {
   "cell_type": "code",
   "execution_count": 522,
   "metadata": {},
   "outputs": [
    {
     "name": "stderr",
     "output_type": "stream",
     "text": [
      "  1%|█                                                                              | 19/1500 [00:00<00:02, 510.36it/s]"
     ]
    },
    {
     "name": "stdout",
     "output_type": "stream",
     "text": [
      "Data is Full Rank\n",
      "Data is not low rank\n",
      "Solving using gradient descent\n",
      "Model stopped - no further improvement\n",
      "\n",
      "SSE: 7569.435629912171\n",
      "RMSE: 9.021739353738697\n",
      "\n",
      " Final Theta's\n",
      "\n",
      "[10.65570116  0.54860892 -0.64086545 -0.1248648  -0.05651829 -0.2141502\n",
      " 12.78556211]\n"
     ]
    },
    {
     "name": "stderr",
     "output_type": "stream",
     "text": [
      "\n"
     ]
    },
    {
     "data": {
      "image/png": "[encoded data removed]",
      "text/plain": [
       "<Figure size 432x288 with 1 Axes>"
      ]
     },
     "metadata": {
      "needs_background": "light"
     },
     "output_type": "display_data"
    }
   ],
   "source": [
    "regression2b = LinearRegression(df2.values[:,0:-1], df2.values[:,-1],Lambda = 0.001 ,lr = 0.001, tol = 0.001, maxIt =1500, gd=True,reg=False,error='rmse')\n",
    "regression2b.fit()"
   ]
  },
  {
   "cell_type": "code",
   "execution_count": 523,
   "metadata": {},
   "outputs": [
    {
     "name": "stderr",
     "output_type": "stream",
     "text": [
      "  1%|▉                                                                             | 19/1500 [00:00<00:00, 9482.60it/s]"
     ]
    },
    {
     "name": "stdout",
     "output_type": "stream",
     "text": [
      "Data is Full Rank\n",
      "Data is not low rank\n",
      "Solving using Gradient Descent with Regularization\n",
      "Model stopped - no further improvement\n",
      "\n",
      "SSE: 7569.12612662045\n",
      "RMSE: 9.021554908906415\n",
      "\n",
      " Final Theta's\n",
      "\n",
      "[10.65520834  0.54862361 -0.64086741 -0.12486877 -0.05651006 -0.2141511\n",
      " 12.78485223]\n"
     ]
    },
    {
     "name": "stderr",
     "output_type": "stream",
     "text": [
      "\n"
     ]
    },
    {
     "data": {
      "image/png": "[encoded data removed]",
      "text/plain": [
       "<Figure size 432x288 with 1 Axes>"
      ]
     },
     "metadata": {
      "needs_background": "light"
     },
     "output_type": "display_data"
    }
   ],
   "source": [
    "regression2c = LinearRegression(df2.values[:,0:-1], df2.values[:,-1],Lambda = 0.001 ,lr = 0.001, tol = 0.001, maxIt =1500, gd=True,reg=True,error='rmse')\n",
    "regression2c.fit()"
   ]
  },
  {
   "cell_type": "code",
   "execution_count": 536,
   "metadata": {},
   "outputs": [
    {
     "name": "stderr",
     "output_type": "stream",
     "text": [
      "  1%|█▏                                                                             | 22/1500 [00:00<00:07, 210.77it/s]"
     ]
    },
    {
     "name": "stdout",
     "output_type": "stream",
     "text": [
      "Data is Full Rank\n",
      "Data is not low rank\n",
      "Solving using Stochastic Gradient Descent\n"
     ]
    },
    {
     "name": "stderr",
     "output_type": "stream",
     "text": [
      "100%|█████████████████████████████████████████████████████████████████████████████| 1500/1500 [00:09<00:00, 158.25it/s]\n"
     ]
    },
    {
     "name": "stdout",
     "output_type": "stream",
     "text": [
      "\n",
      "SSE: 21188.81228346409\n",
      "RMSE: 15.0942602077758\n",
      "\n",
      " Final Theta's\n",
      "\n",
      "[15.70422788  0.36607034  3.44662755  0.23167663  1.84840027 -0.3086145\n",
      "  1.37239193]\n"
     ]
    },
    {
     "data": {
      "image/png": "[encoded data removed]",
      "text/plain": [
       "<Figure size 432x288 with 1 Axes>"
      ]
     },
     "metadata": {
      "needs_background": "light"
     },
     "output_type": "display_data"
    }
   ],
   "source": [
    "regression2d = LinearRegression(df2.values[:,0:-1], df2.values[:,-1],Lambda = 0.001 ,lr = 0.001, tol = 0.001, maxIt =1500, sgd=True,reg=False,error='rmse')\n",
    "regression2d.fit()"
   ]
  },
  {
   "cell_type": "code",
   "execution_count": 525,
   "metadata": {},
   "outputs": [
    {
     "name": "stderr",
     "output_type": "stream",
     "text": [
      "  6%|████▉                                                                          | 94/1500 [00:00<00:01, 937.75it/s]"
     ]
    },
    {
     "name": "stdout",
     "output_type": "stream",
     "text": [
      "Data is Full Rank\n",
      "Data is not low rank\n",
      "Solving using Stochastic Gradient Descent with Regularization\n"
     ]
    },
    {
     "name": "stderr",
     "output_type": "stream",
     "text": [
      "100%|█████████████████████████████████████████████████████████████████████████████| 1500/1500 [00:01<00:00, 804.50it/s]\n"
     ]
    },
    {
     "name": "stdout",
     "output_type": "stream",
     "text": [
      "\n",
      "SSE: 21042.347504869955\n",
      "RMSE: 15.042001234132178\n",
      "\n",
      " Final Theta's\n",
      "\n",
      "[ 6.65784535  2.09241808 -0.93304749  0.03425315  0.33456495 -1.94806552\n",
      " -0.40486911]\n"
     ]
    },
    {
     "data": {
      "image/png": "[encoded data removed]",
      "text/plain": [
       "<Figure size 432x288 with 1 Axes>"
      ]
     },
     "metadata": {
      "needs_background": "light"
     },
     "output_type": "display_data"
    }
   ],
   "source": [
    "regression2e = LinearRegression(df2.values[:,0:-1], df2.values[:,-1],Lambda = 0.001 ,lr = 0.001, tol = 0.001, maxIt =1500, sgd=True,reg=True,error='rmse')\n",
    "regression2e.fit()"
   ]
  },
  {
   "cell_type": "markdown",
   "metadata": {},
   "source": [
    "CONCRETE CSV"
   ]
  },
  {
   "cell_type": "code",
   "execution_count": 527,
   "metadata": {},
   "outputs": [
    {
     "name": "stdout",
     "output_type": "stream",
     "text": [
      "Data is Full Rank\n",
      "Data is not low rank\n",
      "Solving using closed form sol\n",
      "\n",
      "SSE: 38115.41391778253\n",
      "RMSE: 11.1063429671002\n",
      "\n",
      " Final Theta's\n",
      "\n",
      "[35.55869444 13.07061719  9.29612788  6.07754028 -2.38797659  2.13444427\n",
      "  1.74782814  1.75752107  7.36636378]\n"
     ]
    }
   ],
   "source": [
    "regression3 = LinearRegression(df3.values[:,0:-1], df3.values[:,-1],Lambda = 0.001 ,lr = 0.0007, tol = 0.0001, maxIt = 1500, gd=False,reg=False ,error=None)\n",
    "regression3.fit()"
   ]
  },
  {
   "cell_type": "code",
   "execution_count": 528,
   "metadata": {},
   "outputs": [
    {
     "name": "stdout",
     "output_type": "stream",
     "text": [
      "Data is Full Rank\n",
      "Data is not low rank\n",
      "Solving using closed form regularization\n",
      "\n",
      "SSE: 38115.38197341631\n",
      "RMSE: 11.106338313009834\n",
      "\n",
      " Final Theta's\n",
      "\n",
      "[35.55864506 13.07034278  9.29585262  6.07729726 -2.38816303  2.13444327\n",
      "  1.74763946  1.75727736  7.36634234]\n"
     ]
    }
   ],
   "source": [
    "regression3a = LinearRegression(df3.values[:,0:-1], df3.values[:,-1],Lambda = 0.001 ,lr = 0.0007, tol = 0.0001, maxIt = 1500, gd=False,reg=True ,error=None)\n",
    "regression3a.fit()"
   ]
  },
  {
   "cell_type": "code",
   "execution_count": 537,
   "metadata": {},
   "outputs": [
    {
     "name": "stderr",
     "output_type": "stream",
     "text": [
      " 24%|██████████████████▏                                                          | 355/1500 [00:00<00:00, 1708.03it/s]"
     ]
    },
    {
     "name": "stdout",
     "output_type": "stream",
     "text": [
      "Data is Full Rank\n",
      "Data is not low rank\n",
      "Solving using gradient descent\n"
     ]
    },
    {
     "name": "stderr",
     "output_type": "stream",
     "text": [
      " 30%|███████████████████████                                                       | 443/1500 [00:01<00:02, 415.75it/s]"
     ]
    },
    {
     "name": "stdout",
     "output_type": "stream",
     "text": [
      "Model stopped - no further improvement\n",
      "\n",
      "SSE: 38114.97700329399\n",
      "RMSE: 11.106279311277472\n",
      "\n",
      " Final Theta's\n",
      "\n",
      "[35.55869444 13.06540412  9.29085934  6.07298081 -2.39238759  2.13389392\n",
      "  1.74374962  1.75244069  7.36620932]\n"
     ]
    },
    {
     "name": "stderr",
     "output_type": "stream",
     "text": [
      "\n"
     ]
    },
    {
     "data": {
      "image/png": "[encoded data removed]",
      "text/plain": [
       "<Figure size 432x288 with 1 Axes>"
      ]
     },
     "metadata": {
      "needs_background": "light"
     },
     "output_type": "display_data"
    }
   ],
   "source": [
    "regression3b = LinearRegression(df3.values[:,0:-1], df3.values[:,-1],Lambda = 0.001 ,lr = 0.0007, tol = 0.0001, maxIt = 1500, gd=True,reg=False ,error=None)\n",
    "regression3b.fit()"
   ]
  },
  {
   "cell_type": "code",
   "execution_count": 531,
   "metadata": {},
   "outputs": [
    {
     "name": "stderr",
     "output_type": "stream",
     "text": [
      " 31%|███████████████████████▎                                                    | 459/1500 [00:00<00:00, 17923.04it/s]"
     ]
    },
    {
     "name": "stdout",
     "output_type": "stream",
     "text": [
      "Data is Full Rank\n",
      "Data is not low rank\n",
      "Solving using Gradient Descent with Regularization\n",
      "Model stopped - no further improvement\n",
      "\n",
      "SSE: 38114.81318626724\n",
      "RMSE: 11.10625544402432\n",
      "\n",
      " Final Theta's\n",
      "\n",
      "[35.55693848 13.06371062  9.2892361   6.07152825 -2.39336567  2.13400543\n",
      "  1.7427394   1.75108116  7.36607483]\n"
     ]
    },
    {
     "name": "stderr",
     "output_type": "stream",
     "text": [
      "\n"
     ]
    },
    {
     "data": {
      "image/png": "[encoded data removed]",
      "text/plain": [
       "<Figure size 432x288 with 1 Axes>"
      ]
     },
     "metadata": {
      "needs_background": "light"
     },
     "output_type": "display_data"
    }
   ],
   "source": [
    "regression3c = LinearRegression(df3.values[:,0:-1], df3.values[:,-1],Lambda = 0.001 ,lr = 0.0007, tol = 0.0001, maxIt = 1500, gd=True,reg=True ,error=None)\n",
    "regression3c.fit()"
   ]
  },
  {
   "cell_type": "code",
   "execution_count": 532,
   "metadata": {},
   "outputs": [
    {
     "name": "stderr",
     "output_type": "stream",
     "text": [
      "  2%|█▌                                                                             | 29/1500 [00:00<00:05, 276.38it/s]"
     ]
    },
    {
     "name": "stdout",
     "output_type": "stream",
     "text": [
      "Data is Full Rank\n",
      "Data is not low rank\n",
      "Solving using Stochastic Gradient Descent\n"
     ]
    },
    {
     "name": "stderr",
     "output_type": "stream",
     "text": [
      "100%|█████████████████████████████████████████████████████████████████████████████| 1500/1500 [00:11<00:00, 133.87it/s]\n"
     ]
    },
    {
     "name": "stdout",
     "output_type": "stream",
     "text": [
      "\n",
      "SSE: 60637.4171399441\n",
      "RMSE: 14.008482998602997\n",
      "\n",
      " Final Theta's\n",
      "\n",
      "[36.8337995   0.90938258  1.22425996 -0.77859361 -0.97220849  2.42232981\n",
      " -0.6838631   1.6905773   4.45962238]\n"
     ]
    },
    {
     "data": {
      "image/png": "[encoded data removed]",
      "text/plain": [
       "<Figure size 432x288 with 1 Axes>"
      ]
     },
     "metadata": {
      "needs_background": "light"
     },
     "output_type": "display_data"
    }
   ],
   "source": [
    "regression3d = LinearRegression(df3.values[:,0:-1], df3.values[:,-1],Lambda = 0.001 ,lr = 0.0007, tol = 0.0001, maxIt = 1500, sgd=True,reg=False ,error=None)\n",
    "regression3d.fit()"
   ]
  },
  {
   "cell_type": "code",
   "execution_count": 541,
   "metadata": {},
   "outputs": [
    {
     "name": "stderr",
     "output_type": "stream",
     "text": [
      "  8%|██████▎                                                                      | 122/1500 [00:00<00:01, 1210.88it/s]"
     ]
    },
    {
     "name": "stdout",
     "output_type": "stream",
     "text": [
      "Data is Full Rank\n",
      "Data is not low rank\n",
      "Solving using Stochastic Gradient Descent with Regularization\n"
     ]
    },
    {
     "name": "stderr",
     "output_type": "stream",
     "text": [
      "100%|█████████████████████████████████████████████████████████████████████████████| 1500/1500 [00:02<00:00, 710.36it/s]\n"
     ]
    },
    {
     "name": "stdout",
     "output_type": "stream",
     "text": [
      "\n",
      "SSE: 96661.90896714845\n",
      "RMSE: 17.686766574696303\n",
      "\n",
      " Final Theta's\n",
      "\n",
      "[38.13823691 -0.90216771  4.00435349  3.28743936 -0.13203452  0.30733206\n",
      " -0.30118995  6.56558573  3.23108941]\n"
     ]
    },
    {
     "data": {
      "image/png": "[encoded data removed]",
      "text/plain": [
       "<Figure size 432x288 with 1 Axes>"
      ]
     },
     "metadata": {
      "needs_background": "light"
     },
     "output_type": "display_data"
    }
   ],
   "source": [
    "regression3e = LinearRegression(df3.values[:,0:-1], df3.values[:,-1],Lambda = 0.001 ,lr = 0.0007, tol = 0.0001, maxIt = 1500, sgd=True,reg=True ,error=None)\n",
    "regression3e.fit()"
   ]
  },
  {
   "cell_type": "code",
   "execution_count": null,
   "metadata": {},
   "outputs": [],
   "source": []
  }
 ],
 "metadata": {
  "kernelspec": {
   "display_name": "Python 3",
   "language": "python",
   "name": "python3"
  },
  "language_info": {
   "codemirror_mode": {
    "name": "ipython",
    "version": 3
   },
   "file_extension": ".py",
   "mimetype": "text/x-python",
   "name": "python",
   "nbconvert_exporter": "python",
   "pygments_lexer": "ipython3",
   "version": "3.8.5"
  }
 },
 "nbformat": 4,
 "nbformat_minor": 4
}
